{
  "nbformat": 4,
  "nbformat_minor": 0,
  "metadata": {
    "colab": {
      "provenance": []
    },
    "kernelspec": {
      "name": "python3",
      "display_name": "Python 3"
    },
    "language_info": {
      "name": "python"
    }
  },
  "cells": [
    {
      "cell_type": "code",
      "execution_count": null,
      "metadata": {
        "id": "lb-v1LauEEFA"
      },
      "outputs": [],
      "source": [
        "def update_quantity(inventory_management_system, item_key, new_quantity):\n",
        "    if item_key in inventory_management_system:\n",
        "        inventory_management_system[item_key]['quantity'] = new_quantity\n",
        "        print(f\"Updated quantity for {item_key} is: {new_quantity}\")\n",
        "    else:\n",
        "        print(f\"Item {item_key} doesn't exist in inventory.\")\n",
        "\n",
        "inventory_management_system = {}\n",
        "\n",
        "print(\"______________________________________________\")\n",
        "print(\"|       Inventory Management System          |\")\n",
        "print(\"______________________________________________\")\n",
        "\n",
        "while True:\n",
        "\n",
        "    item_k = input('Enter item key: ')\n",
        "    name = input('Enter name: ')\n",
        "    quantity = float(input('Enter quantity: '))\n",
        "    price = float(input('Enter price: '))\n",
        "\n",
        "    inventory_management_system[item_k] = {\n",
        "        \"name\": name,\n",
        "        \"quantity\": quantity,\n",
        "        \"price\": price\n",
        "    }\n",
        "\n",
        "    print(\"1 - Show inventory\")\n",
        "    print(\"2 - Update quantity\")\n",
        "    print(\"3 - Calculate total price\")\n",
        "    choice = int(input(\"Choose an option: \"))\n",
        "\n",
        "    if choice == 1:\n",
        "        print(\"Current inventory: \\n\",inventory_management_system)\n",
        "\n",
        "    elif choice == 2:\n",
        "        item_key = input(\"Enter item key to update quantity: \")\n",
        "        new_quantity = int(input(\"Enter new quantity: \"))\n",
        "        update_quantity(inventory_management_system, item_key, new_quantity)\n",
        "\n",
        "    elif choice == 3:\n",
        "        total_price = sum(item['price'] * item['quantity'] for item in inventory_management_system.values())\n",
        "        print(f\"Total price: {total_price}\")\n",
        "\n",
        "    else:\n",
        "        print(\"Invalid choice. Please try again.\")\n",
        "\n",
        "\n",
        "    continue_program = input(\"Do you want to continue? (yes/no): \").strip().lower()\n",
        "    if continue_program != 'yes':\n",
        "        break"
      ]
    }
  ]
}